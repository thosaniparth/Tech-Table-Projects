{
  "cells": [
    {
      "metadata": {},
      "cell_type": "markdown",
      "source": "# Parth Thosani\nData Cleaning & Algorithms: KNN,SVM,Decision Tree and Logistic Regression"
    },
    {
      "metadata": {
        "trusted": true
      },
      "cell_type": "code",
      "source": "import pandas as pd\nimport seaborn as sns\nimport matplotlib.pyplot as plt\nimport numpy as np\n%matplotlib inline",
      "execution_count": 1,
      "outputs": []
    },
    {
      "metadata": {
        "trusted": true
      },
      "cell_type": "code",
      "source": "from sklearn.metrics import accuracy_score\nfrom sklearn.cluster import KMeans\nfrom sklearn.preprocessing import LabelEncoder\nfrom sklearn.model_selection import train_test_split\nfrom sklearn.neighbors import KNeighborsClassifier\nfrom sklearn.metrics import classification_report,confusion_matrix\nfrom sklearn.model_selection import cross_val_score",
      "execution_count": 2,
      "outputs": []
    },
    {
      "metadata": {
        "trusted": true
      },
      "cell_type": "code",
      "source": "df = pd.read_csv(\"train_AV3.csv\")\ndf.head(22)",
      "execution_count": 3,
      "outputs": [
        {
          "output_type": "execute_result",
          "execution_count": 3,
          "data": {
            "text/html": "<div>\n<style scoped>\n    .dataframe tbody tr th:only-of-type {\n        vertical-align: middle;\n    }\n\n    .dataframe tbody tr th {\n        vertical-align: top;\n    }\n\n    .dataframe thead th {\n        text-align: right;\n    }\n</style>\n<table border=\"1\" class=\"dataframe\">\n  <thead>\n    <tr style=\"text-align: right;\">\n      <th></th>\n      <th>Loan_ID</th>\n      <th>Gender</th>\n      <th>Married</th>\n      <th>Dependents</th>\n      <th>Education</th>\n      <th>Self_Employed</th>\n      <th>ApplicantIncome</th>\n      <th>CoapplicantIncome</th>\n      <th>LoanAmount</th>\n      <th>Loan_Amount_Term</th>\n      <th>Credit_History</th>\n      <th>Property_Area</th>\n      <th>Loan_Status</th>\n    </tr>\n  </thead>\n  <tbody>\n    <tr>\n      <th>0</th>\n      <td>LP001002</td>\n      <td>Male</td>\n      <td>No</td>\n      <td>0</td>\n      <td>Graduate</td>\n      <td>No</td>\n      <td>5849</td>\n      <td>0.0</td>\n      <td>NaN</td>\n      <td>360.0</td>\n      <td>1.0</td>\n      <td>Urban</td>\n      <td>Y</td>\n    </tr>\n    <tr>\n      <th>1</th>\n      <td>LP001003</td>\n      <td>Male</td>\n      <td>Yes</td>\n      <td>1</td>\n      <td>Graduate</td>\n      <td>No</td>\n      <td>4583</td>\n      <td>1508.0</td>\n      <td>128.0</td>\n      <td>360.0</td>\n      <td>1.0</td>\n      <td>Rural</td>\n      <td>N</td>\n    </tr>\n    <tr>\n      <th>2</th>\n      <td>LP001005</td>\n      <td>Male</td>\n      <td>Yes</td>\n      <td>0</td>\n      <td>Graduate</td>\n      <td>Yes</td>\n      <td>3000</td>\n      <td>0.0</td>\n      <td>66.0</td>\n      <td>360.0</td>\n      <td>1.0</td>\n      <td>Urban</td>\n      <td>Y</td>\n    </tr>\n    <tr>\n      <th>3</th>\n      <td>LP001006</td>\n      <td>Male</td>\n      <td>Yes</td>\n      <td>0</td>\n      <td>Not Graduate</td>\n      <td>No</td>\n      <td>2583</td>\n      <td>2358.0</td>\n      <td>120.0</td>\n      <td>360.0</td>\n      <td>1.0</td>\n      <td>Urban</td>\n      <td>Y</td>\n    </tr>\n    <tr>\n      <th>4</th>\n      <td>LP001008</td>\n      <td>Male</td>\n      <td>No</td>\n      <td>0</td>\n      <td>Graduate</td>\n      <td>No</td>\n      <td>6000</td>\n      <td>0.0</td>\n      <td>141.0</td>\n      <td>360.0</td>\n      <td>1.0</td>\n      <td>Urban</td>\n      <td>Y</td>\n    </tr>\n    <tr>\n      <th>5</th>\n      <td>LP001011</td>\n      <td>Male</td>\n      <td>Yes</td>\n      <td>2</td>\n      <td>Graduate</td>\n      <td>Yes</td>\n      <td>5417</td>\n      <td>4196.0</td>\n      <td>267.0</td>\n      <td>360.0</td>\n      <td>1.0</td>\n      <td>Urban</td>\n      <td>Y</td>\n    </tr>\n    <tr>\n      <th>6</th>\n      <td>LP001013</td>\n      <td>Male</td>\n      <td>Yes</td>\n      <td>0</td>\n      <td>Not Graduate</td>\n      <td>No</td>\n      <td>2333</td>\n      <td>1516.0</td>\n      <td>95.0</td>\n      <td>360.0</td>\n      <td>1.0</td>\n      <td>Urban</td>\n      <td>Y</td>\n    </tr>\n    <tr>\n      <th>7</th>\n      <td>LP001014</td>\n      <td>Male</td>\n      <td>Yes</td>\n      <td>3+</td>\n      <td>Graduate</td>\n      <td>No</td>\n      <td>3036</td>\n      <td>2504.0</td>\n      <td>158.0</td>\n      <td>360.0</td>\n      <td>0.0</td>\n      <td>Semiurban</td>\n      <td>N</td>\n    </tr>\n    <tr>\n      <th>8</th>\n      <td>LP001018</td>\n      <td>Male</td>\n      <td>Yes</td>\n      <td>2</td>\n      <td>Graduate</td>\n      <td>No</td>\n      <td>4006</td>\n      <td>1526.0</td>\n      <td>168.0</td>\n      <td>360.0</td>\n      <td>1.0</td>\n      <td>Urban</td>\n      <td>Y</td>\n    </tr>\n    <tr>\n      <th>9</th>\n      <td>LP001020</td>\n      <td>Male</td>\n      <td>Yes</td>\n      <td>1</td>\n      <td>Graduate</td>\n      <td>No</td>\n      <td>12841</td>\n      <td>10968.0</td>\n      <td>349.0</td>\n      <td>360.0</td>\n      <td>1.0</td>\n      <td>Semiurban</td>\n      <td>N</td>\n    </tr>\n    <tr>\n      <th>10</th>\n      <td>LP001024</td>\n      <td>Male</td>\n      <td>Yes</td>\n      <td>2</td>\n      <td>Graduate</td>\n      <td>No</td>\n      <td>3200</td>\n      <td>700.0</td>\n      <td>70.0</td>\n      <td>360.0</td>\n      <td>1.0</td>\n      <td>Urban</td>\n      <td>Y</td>\n    </tr>\n    <tr>\n      <th>11</th>\n      <td>LP001027</td>\n      <td>Male</td>\n      <td>Yes</td>\n      <td>2</td>\n      <td>Graduate</td>\n      <td>NaN</td>\n      <td>2500</td>\n      <td>1840.0</td>\n      <td>109.0</td>\n      <td>360.0</td>\n      <td>1.0</td>\n      <td>Urban</td>\n      <td>Y</td>\n    </tr>\n    <tr>\n      <th>12</th>\n      <td>LP001028</td>\n      <td>Male</td>\n      <td>Yes</td>\n      <td>2</td>\n      <td>Graduate</td>\n      <td>No</td>\n      <td>3073</td>\n      <td>8106.0</td>\n      <td>200.0</td>\n      <td>360.0</td>\n      <td>1.0</td>\n      <td>Urban</td>\n      <td>Y</td>\n    </tr>\n    <tr>\n      <th>13</th>\n      <td>LP001029</td>\n      <td>Male</td>\n      <td>No</td>\n      <td>0</td>\n      <td>Graduate</td>\n      <td>No</td>\n      <td>1853</td>\n      <td>2840.0</td>\n      <td>114.0</td>\n      <td>360.0</td>\n      <td>1.0</td>\n      <td>Rural</td>\n      <td>N</td>\n    </tr>\n    <tr>\n      <th>14</th>\n      <td>LP001030</td>\n      <td>Male</td>\n      <td>Yes</td>\n      <td>2</td>\n      <td>Graduate</td>\n      <td>No</td>\n      <td>1299</td>\n      <td>1086.0</td>\n      <td>17.0</td>\n      <td>120.0</td>\n      <td>1.0</td>\n      <td>Urban</td>\n      <td>Y</td>\n    </tr>\n    <tr>\n      <th>15</th>\n      <td>LP001032</td>\n      <td>Male</td>\n      <td>No</td>\n      <td>0</td>\n      <td>Graduate</td>\n      <td>No</td>\n      <td>4950</td>\n      <td>0.0</td>\n      <td>125.0</td>\n      <td>360.0</td>\n      <td>1.0</td>\n      <td>Urban</td>\n      <td>Y</td>\n    </tr>\n    <tr>\n      <th>16</th>\n      <td>LP001034</td>\n      <td>Male</td>\n      <td>No</td>\n      <td>1</td>\n      <td>Not Graduate</td>\n      <td>No</td>\n      <td>3596</td>\n      <td>0.0</td>\n      <td>100.0</td>\n      <td>240.0</td>\n      <td>NaN</td>\n      <td>Urban</td>\n      <td>Y</td>\n    </tr>\n    <tr>\n      <th>17</th>\n      <td>LP001036</td>\n      <td>Female</td>\n      <td>No</td>\n      <td>0</td>\n      <td>Graduate</td>\n      <td>No</td>\n      <td>3510</td>\n      <td>0.0</td>\n      <td>76.0</td>\n      <td>360.0</td>\n      <td>0.0</td>\n      <td>Urban</td>\n      <td>N</td>\n    </tr>\n    <tr>\n      <th>18</th>\n      <td>LP001038</td>\n      <td>Male</td>\n      <td>Yes</td>\n      <td>0</td>\n      <td>Not Graduate</td>\n      <td>No</td>\n      <td>4887</td>\n      <td>0.0</td>\n      <td>133.0</td>\n      <td>360.0</td>\n      <td>1.0</td>\n      <td>Rural</td>\n      <td>N</td>\n    </tr>\n    <tr>\n      <th>19</th>\n      <td>LP001041</td>\n      <td>Male</td>\n      <td>Yes</td>\n      <td>0</td>\n      <td>Graduate</td>\n      <td>NaN</td>\n      <td>2600</td>\n      <td>3500.0</td>\n      <td>115.0</td>\n      <td>NaN</td>\n      <td>1.0</td>\n      <td>Urban</td>\n      <td>Y</td>\n    </tr>\n    <tr>\n      <th>20</th>\n      <td>LP001043</td>\n      <td>Male</td>\n      <td>Yes</td>\n      <td>0</td>\n      <td>Not Graduate</td>\n      <td>No</td>\n      <td>7660</td>\n      <td>0.0</td>\n      <td>104.0</td>\n      <td>360.0</td>\n      <td>0.0</td>\n      <td>Urban</td>\n      <td>N</td>\n    </tr>\n    <tr>\n      <th>21</th>\n      <td>LP001046</td>\n      <td>Male</td>\n      <td>Yes</td>\n      <td>1</td>\n      <td>Graduate</td>\n      <td>No</td>\n      <td>5955</td>\n      <td>5625.0</td>\n      <td>315.0</td>\n      <td>360.0</td>\n      <td>1.0</td>\n      <td>Urban</td>\n      <td>Y</td>\n    </tr>\n  </tbody>\n</table>\n</div>",
            "text/plain": "     Loan_ID  Gender Married Dependents     Education Self_Employed  \\\n0   LP001002    Male      No          0      Graduate            No   \n1   LP001003    Male     Yes          1      Graduate            No   \n2   LP001005    Male     Yes          0      Graduate           Yes   \n3   LP001006    Male     Yes          0  Not Graduate            No   \n4   LP001008    Male      No          0      Graduate            No   \n5   LP001011    Male     Yes          2      Graduate           Yes   \n6   LP001013    Male     Yes          0  Not Graduate            No   \n7   LP001014    Male     Yes         3+      Graduate            No   \n8   LP001018    Male     Yes          2      Graduate            No   \n9   LP001020    Male     Yes          1      Graduate            No   \n10  LP001024    Male     Yes          2      Graduate            No   \n11  LP001027    Male     Yes          2      Graduate           NaN   \n12  LP001028    Male     Yes          2      Graduate            No   \n13  LP001029    Male      No          0      Graduate            No   \n14  LP001030    Male     Yes          2      Graduate            No   \n15  LP001032    Male      No          0      Graduate            No   \n16  LP001034    Male      No          1  Not Graduate            No   \n17  LP001036  Female      No          0      Graduate            No   \n18  LP001038    Male     Yes          0  Not Graduate            No   \n19  LP001041    Male     Yes          0      Graduate           NaN   \n20  LP001043    Male     Yes          0  Not Graduate            No   \n21  LP001046    Male     Yes          1      Graduate            No   \n\n    ApplicantIncome  CoapplicantIncome  LoanAmount  Loan_Amount_Term  \\\n0              5849                0.0         NaN             360.0   \n1              4583             1508.0       128.0             360.0   \n2              3000                0.0        66.0             360.0   \n3              2583             2358.0       120.0             360.0   \n4              6000                0.0       141.0             360.0   \n5              5417             4196.0       267.0             360.0   \n6              2333             1516.0        95.0             360.0   \n7              3036             2504.0       158.0             360.0   \n8              4006             1526.0       168.0             360.0   \n9             12841            10968.0       349.0             360.0   \n10             3200              700.0        70.0             360.0   \n11             2500             1840.0       109.0             360.0   \n12             3073             8106.0       200.0             360.0   \n13             1853             2840.0       114.0             360.0   \n14             1299             1086.0        17.0             120.0   \n15             4950                0.0       125.0             360.0   \n16             3596                0.0       100.0             240.0   \n17             3510                0.0        76.0             360.0   \n18             4887                0.0       133.0             360.0   \n19             2600             3500.0       115.0               NaN   \n20             7660                0.0       104.0             360.0   \n21             5955             5625.0       315.0             360.0   \n\n    Credit_History Property_Area Loan_Status  \n0              1.0         Urban           Y  \n1              1.0         Rural           N  \n2              1.0         Urban           Y  \n3              1.0         Urban           Y  \n4              1.0         Urban           Y  \n5              1.0         Urban           Y  \n6              1.0         Urban           Y  \n7              0.0     Semiurban           N  \n8              1.0         Urban           Y  \n9              1.0     Semiurban           N  \n10             1.0         Urban           Y  \n11             1.0         Urban           Y  \n12             1.0         Urban           Y  \n13             1.0         Rural           N  \n14             1.0         Urban           Y  \n15             1.0         Urban           Y  \n16             NaN         Urban           Y  \n17             0.0         Urban           N  \n18             1.0         Rural           N  \n19             1.0         Urban           Y  \n20             0.0         Urban           N  \n21             1.0         Urban           Y  "
          },
          "metadata": {}
        }
      ]
    },
    {
      "metadata": {
        "trusted": true
      },
      "cell_type": "code",
      "source": "df.describe()",
      "execution_count": 4,
      "outputs": [
        {
          "output_type": "execute_result",
          "execution_count": 4,
          "data": {
            "text/html": "<div>\n<style scoped>\n    .dataframe tbody tr th:only-of-type {\n        vertical-align: middle;\n    }\n\n    .dataframe tbody tr th {\n        vertical-align: top;\n    }\n\n    .dataframe thead th {\n        text-align: right;\n    }\n</style>\n<table border=\"1\" class=\"dataframe\">\n  <thead>\n    <tr style=\"text-align: right;\">\n      <th></th>\n      <th>ApplicantIncome</th>\n      <th>CoapplicantIncome</th>\n      <th>LoanAmount</th>\n      <th>Loan_Amount_Term</th>\n      <th>Credit_History</th>\n    </tr>\n  </thead>\n  <tbody>\n    <tr>\n      <th>count</th>\n      <td>614.000000</td>\n      <td>614.000000</td>\n      <td>592.000000</td>\n      <td>600.00000</td>\n      <td>564.000000</td>\n    </tr>\n    <tr>\n      <th>mean</th>\n      <td>5403.459283</td>\n      <td>1621.245798</td>\n      <td>146.412162</td>\n      <td>342.00000</td>\n      <td>0.842199</td>\n    </tr>\n    <tr>\n      <th>std</th>\n      <td>6109.041673</td>\n      <td>2926.248369</td>\n      <td>85.587325</td>\n      <td>65.12041</td>\n      <td>0.364878</td>\n    </tr>\n    <tr>\n      <th>min</th>\n      <td>150.000000</td>\n      <td>0.000000</td>\n      <td>9.000000</td>\n      <td>12.00000</td>\n      <td>0.000000</td>\n    </tr>\n    <tr>\n      <th>25%</th>\n      <td>2877.500000</td>\n      <td>0.000000</td>\n      <td>100.000000</td>\n      <td>360.00000</td>\n      <td>1.000000</td>\n    </tr>\n    <tr>\n      <th>50%</th>\n      <td>3812.500000</td>\n      <td>1188.500000</td>\n      <td>128.000000</td>\n      <td>360.00000</td>\n      <td>1.000000</td>\n    </tr>\n    <tr>\n      <th>75%</th>\n      <td>5795.000000</td>\n      <td>2297.250000</td>\n      <td>168.000000</td>\n      <td>360.00000</td>\n      <td>1.000000</td>\n    </tr>\n    <tr>\n      <th>max</th>\n      <td>81000.000000</td>\n      <td>41667.000000</td>\n      <td>700.000000</td>\n      <td>480.00000</td>\n      <td>1.000000</td>\n    </tr>\n  </tbody>\n</table>\n</div>",
            "text/plain": "       ApplicantIncome  CoapplicantIncome  LoanAmount  Loan_Amount_Term  \\\ncount       614.000000         614.000000  592.000000         600.00000   \nmean       5403.459283        1621.245798  146.412162         342.00000   \nstd        6109.041673        2926.248369   85.587325          65.12041   \nmin         150.000000           0.000000    9.000000          12.00000   \n25%        2877.500000           0.000000  100.000000         360.00000   \n50%        3812.500000        1188.500000  128.000000         360.00000   \n75%        5795.000000        2297.250000  168.000000         360.00000   \nmax       81000.000000       41667.000000  700.000000         480.00000   \n\n       Credit_History  \ncount      564.000000  \nmean         0.842199  \nstd          0.364878  \nmin          0.000000  \n25%          1.000000  \n50%          1.000000  \n75%          1.000000  \nmax          1.000000  "
          },
          "metadata": {}
        }
      ]
    },
    {
      "metadata": {
        "trusted": true
      },
      "cell_type": "code",
      "source": "df.isna().sum()",
      "execution_count": 5,
      "outputs": [
        {
          "output_type": "execute_result",
          "execution_count": 5,
          "data": {
            "text/plain": "Loan_ID               0\nGender               13\nMarried               3\nDependents           15\nEducation             0\nSelf_Employed        32\nApplicantIncome       0\nCoapplicantIncome     0\nLoanAmount           22\nLoan_Amount_Term     14\nCredit_History       50\nProperty_Area         0\nLoan_Status           0\ndtype: int64"
          },
          "metadata": {}
        }
      ]
    },
    {
      "metadata": {
        "trusted": true
      },
      "cell_type": "code",
      "source": "df['Gender'].value_counts()",
      "execution_count": 6,
      "outputs": [
        {
          "output_type": "execute_result",
          "execution_count": 6,
          "data": {
            "text/plain": "Male      489\nFemale    112\nName: Gender, dtype: int64"
          },
          "metadata": {}
        }
      ]
    },
    {
      "metadata": {
        "trusted": true
      },
      "cell_type": "code",
      "source": "df[\"Gender\"].fillna(\"Male\", inplace=True)",
      "execution_count": 7,
      "outputs": []
    },
    {
      "metadata": {
        "trusted": true
      },
      "cell_type": "code",
      "source": "df['Gender'].value_counts()",
      "execution_count": 8,
      "outputs": [
        {
          "output_type": "execute_result",
          "execution_count": 8,
          "data": {
            "text/plain": "Male      502\nFemale    112\nName: Gender, dtype: int64"
          },
          "metadata": {}
        }
      ]
    },
    {
      "metadata": {
        "trusted": true
      },
      "cell_type": "code",
      "source": "df['Married'].value_counts()",
      "execution_count": 9,
      "outputs": [
        {
          "output_type": "execute_result",
          "execution_count": 9,
          "data": {
            "text/plain": "Yes    398\nNo     213\nName: Married, dtype: int64"
          },
          "metadata": {}
        }
      ]
    },
    {
      "metadata": {
        "trusted": true
      },
      "cell_type": "code",
      "source": "df['Married'].fillna('Yes',inplace=True)",
      "execution_count": 10,
      "outputs": []
    },
    {
      "metadata": {
        "trusted": true
      },
      "cell_type": "code",
      "source": "df['Married'].value_counts()",
      "execution_count": 11,
      "outputs": [
        {
          "output_type": "execute_result",
          "execution_count": 11,
          "data": {
            "text/plain": "Yes    401\nNo     213\nName: Married, dtype: int64"
          },
          "metadata": {}
        }
      ]
    },
    {
      "metadata": {
        "trusted": true
      },
      "cell_type": "code",
      "source": "df['Dependents'].value_counts()",
      "execution_count": 12,
      "outputs": [
        {
          "output_type": "execute_result",
          "execution_count": 12,
          "data": {
            "text/plain": "0     345\n1     102\n2     101\n3+     51\nName: Dependents, dtype: int64"
          },
          "metadata": {}
        }
      ]
    },
    {
      "metadata": {
        "trusted": true
      },
      "cell_type": "code",
      "source": "df['Dependents'].fillna('0',inplace=True)",
      "execution_count": 13,
      "outputs": []
    },
    {
      "metadata": {
        "trusted": true
      },
      "cell_type": "code",
      "source": "df['Dependents'].value_counts()",
      "execution_count": 14,
      "outputs": [
        {
          "output_type": "execute_result",
          "execution_count": 14,
          "data": {
            "text/plain": "0     360\n1     102\n2     101\n3+     51\nName: Dependents, dtype: int64"
          },
          "metadata": {}
        }
      ]
    },
    {
      "metadata": {
        "trusted": true
      },
      "cell_type": "code",
      "source": "df[\"Self_Employed\"].value_counts()",
      "execution_count": 15,
      "outputs": [
        {
          "output_type": "execute_result",
          "execution_count": 15,
          "data": {
            "text/plain": "No     500\nYes     82\nName: Self_Employed, dtype: int64"
          },
          "metadata": {}
        }
      ]
    },
    {
      "metadata": {
        "trusted": true
      },
      "cell_type": "code",
      "source": "df['Self_Employed'].fillna('No',inplace=True)",
      "execution_count": 16,
      "outputs": []
    },
    {
      "metadata": {
        "trusted": true
      },
      "cell_type": "code",
      "source": "df[\"Self_Employed\"].value_counts()",
      "execution_count": 17,
      "outputs": [
        {
          "output_type": "execute_result",
          "execution_count": 17,
          "data": {
            "text/plain": "No     532\nYes     82\nName: Self_Employed, dtype: int64"
          },
          "metadata": {}
        }
      ]
    },
    {
      "metadata": {
        "trusted": true
      },
      "cell_type": "code",
      "source": "df[\"LoanAmount\"].fillna(df[\"LoanAmount\"].mean(), inplace=True)",
      "execution_count": 18,
      "outputs": []
    },
    {
      "metadata": {
        "trusted": true
      },
      "cell_type": "code",
      "source": "df[\"Loan_Amount_Term\"].value_counts()",
      "execution_count": 19,
      "outputs": [
        {
          "output_type": "execute_result",
          "execution_count": 19,
          "data": {
            "text/plain": "360.0    512\n180.0     44\n480.0     15\n300.0     13\n84.0       4\n240.0      4\n120.0      3\n36.0       2\n60.0       2\n12.0       1\nName: Loan_Amount_Term, dtype: int64"
          },
          "metadata": {}
        }
      ]
    },
    {
      "metadata": {
        "trusted": true
      },
      "cell_type": "code",
      "source": "df['Loan_Amount_Term'].fillna(360.0,inplace=True)",
      "execution_count": 20,
      "outputs": []
    },
    {
      "metadata": {
        "trusted": true
      },
      "cell_type": "code",
      "source": "df[\"Loan_Amount_Term\"].value_counts()",
      "execution_count": 21,
      "outputs": [
        {
          "output_type": "execute_result",
          "execution_count": 21,
          "data": {
            "text/plain": "360.0    526\n180.0     44\n480.0     15\n300.0     13\n84.0       4\n240.0      4\n120.0      3\n36.0       2\n60.0       2\n12.0       1\nName: Loan_Amount_Term, dtype: int64"
          },
          "metadata": {}
        }
      ]
    },
    {
      "metadata": {
        "trusted": true
      },
      "cell_type": "code",
      "source": "df[\"Credit_History\"].value_counts()",
      "execution_count": 22,
      "outputs": [
        {
          "output_type": "execute_result",
          "execution_count": 22,
          "data": {
            "text/plain": "1.0    475\n0.0     89\nName: Credit_History, dtype: int64"
          },
          "metadata": {}
        }
      ]
    },
    {
      "metadata": {
        "trusted": true
      },
      "cell_type": "code",
      "source": "df['Credit_History'].fillna(1.0,inplace=True)",
      "execution_count": 23,
      "outputs": []
    },
    {
      "metadata": {
        "trusted": true
      },
      "cell_type": "code",
      "source": "df[\"Credit_History\"].value_counts()",
      "execution_count": 24,
      "outputs": [
        {
          "output_type": "execute_result",
          "execution_count": 24,
          "data": {
            "text/plain": "1.0    525\n0.0     89\nName: Credit_History, dtype: int64"
          },
          "metadata": {}
        }
      ]
    },
    {
      "metadata": {
        "trusted": true
      },
      "cell_type": "code",
      "source": "df.isna().sum()",
      "execution_count": 25,
      "outputs": [
        {
          "output_type": "execute_result",
          "execution_count": 25,
          "data": {
            "text/plain": "Loan_ID              0\nGender               0\nMarried              0\nDependents           0\nEducation            0\nSelf_Employed        0\nApplicantIncome      0\nCoapplicantIncome    0\nLoanAmount           0\nLoan_Amount_Term     0\nCredit_History       0\nProperty_Area        0\nLoan_Status          0\ndtype: int64"
          },
          "metadata": {}
        }
      ]
    },
    {
      "metadata": {
        "trusted": true
      },
      "cell_type": "code",
      "source": "lb_make = LabelEncoder()\ndf[\"Gender_n\"] = lb_make.fit_transform(df[\"Gender\"])\ndf[\"Married_n\"] = lb_make.fit_transform(df[\"Married\"])\ndf[\"Education_n\"] = lb_make.fit_transform(df[\"Education\"])\ndf[\"Dependents_n\"] = lb_make.fit_transform(df[\"Dependents\"])\ndf[\"Self_Employed_n\"] = lb_make.fit_transform(df[\"Self_Employed\"])\ndf[\"Property_Area_n\"] = lb_make.fit_transform(df[\"Property_Area\"])\ndf[\"Loan_Status_n\"] = lb_make.fit_transform(df[\"Loan_Status\"])",
      "execution_count": 26,
      "outputs": []
    },
    {
      "metadata": {
        "trusted": true
      },
      "cell_type": "code",
      "source": "df",
      "execution_count": 27,
      "outputs": [
        {
          "output_type": "execute_result",
          "execution_count": 27,
          "data": {
            "text/html": "<div>\n<style scoped>\n    .dataframe tbody tr th:only-of-type {\n        vertical-align: middle;\n    }\n\n    .dataframe tbody tr th {\n        vertical-align: top;\n    }\n\n    .dataframe thead th {\n        text-align: right;\n    }\n</style>\n<table border=\"1\" class=\"dataframe\">\n  <thead>\n    <tr style=\"text-align: right;\">\n      <th></th>\n      <th>Loan_ID</th>\n      <th>Gender</th>\n      <th>Married</th>\n      <th>Dependents</th>\n      <th>Education</th>\n      <th>Self_Employed</th>\n      <th>ApplicantIncome</th>\n      <th>CoapplicantIncome</th>\n      <th>LoanAmount</th>\n      <th>Loan_Amount_Term</th>\n      <th>Credit_History</th>\n      <th>Property_Area</th>\n      <th>Loan_Status</th>\n      <th>Gender_n</th>\n      <th>Married_n</th>\n      <th>Education_n</th>\n      <th>Dependents_n</th>\n      <th>Self_Employed_n</th>\n      <th>Property_Area_n</th>\n      <th>Loan_Status_n</th>\n    </tr>\n  </thead>\n  <tbody>\n    <tr>\n      <th>0</th>\n      <td>LP001002</td>\n      <td>Male</td>\n      <td>No</td>\n      <td>0</td>\n      <td>Graduate</td>\n      <td>No</td>\n      <td>5849</td>\n      <td>0.0</td>\n      <td>146.412162</td>\n      <td>360.0</td>\n      <td>1.0</td>\n      <td>Urban</td>\n      <td>Y</td>\n      <td>1</td>\n      <td>0</td>\n      <td>0</td>\n      <td>0</td>\n      <td>0</td>\n      <td>2</td>\n      <td>1</td>\n    </tr>\n    <tr>\n      <th>1</th>\n      <td>LP001003</td>\n      <td>Male</td>\n      <td>Yes</td>\n      <td>1</td>\n      <td>Graduate</td>\n      <td>No</td>\n      <td>4583</td>\n      <td>1508.0</td>\n      <td>128.000000</td>\n      <td>360.0</td>\n      <td>1.0</td>\n      <td>Rural</td>\n      <td>N</td>\n      <td>1</td>\n      <td>1</td>\n      <td>0</td>\n      <td>1</td>\n      <td>0</td>\n      <td>0</td>\n      <td>0</td>\n    </tr>\n    <tr>\n      <th>2</th>\n      <td>LP001005</td>\n      <td>Male</td>\n      <td>Yes</td>\n      <td>0</td>\n      <td>Graduate</td>\n      <td>Yes</td>\n      <td>3000</td>\n      <td>0.0</td>\n      <td>66.000000</td>\n      <td>360.0</td>\n      <td>1.0</td>\n      <td>Urban</td>\n      <td>Y</td>\n      <td>1</td>\n      <td>1</td>\n      <td>0</td>\n      <td>0</td>\n      <td>1</td>\n      <td>2</td>\n      <td>1</td>\n    </tr>\n    <tr>\n      <th>3</th>\n      <td>LP001006</td>\n      <td>Male</td>\n      <td>Yes</td>\n      <td>0</td>\n      <td>Not Graduate</td>\n      <td>No</td>\n      <td>2583</td>\n      <td>2358.0</td>\n      <td>120.000000</td>\n      <td>360.0</td>\n      <td>1.0</td>\n      <td>Urban</td>\n      <td>Y</td>\n      <td>1</td>\n      <td>1</td>\n      <td>1</td>\n      <td>0</td>\n      <td>0</td>\n      <td>2</td>\n      <td>1</td>\n    </tr>\n    <tr>\n      <th>4</th>\n      <td>LP001008</td>\n      <td>Male</td>\n      <td>No</td>\n      <td>0</td>\n      <td>Graduate</td>\n      <td>No</td>\n      <td>6000</td>\n      <td>0.0</td>\n      <td>141.000000</td>\n      <td>360.0</td>\n      <td>1.0</td>\n      <td>Urban</td>\n      <td>Y</td>\n      <td>1</td>\n      <td>0</td>\n      <td>0</td>\n      <td>0</td>\n      <td>0</td>\n      <td>2</td>\n      <td>1</td>\n    </tr>\n    <tr>\n      <th>5</th>\n      <td>LP001011</td>\n      <td>Male</td>\n      <td>Yes</td>\n      <td>2</td>\n      <td>Graduate</td>\n      <td>Yes</td>\n      <td>5417</td>\n      <td>4196.0</td>\n      <td>267.000000</td>\n      <td>360.0</td>\n      <td>1.0</td>\n      <td>Urban</td>\n      <td>Y</td>\n      <td>1</td>\n      <td>1</td>\n      <td>0</td>\n      <td>2</td>\n      <td>1</td>\n      <td>2</td>\n      <td>1</td>\n    </tr>\n    <tr>\n      <th>6</th>\n      <td>LP001013</td>\n      <td>Male</td>\n      <td>Yes</td>\n      <td>0</td>\n      <td>Not Graduate</td>\n      <td>No</td>\n      <td>2333</td>\n      <td>1516.0</td>\n      <td>95.000000</td>\n      <td>360.0</td>\n      <td>1.0</td>\n      <td>Urban</td>\n      <td>Y</td>\n      <td>1</td>\n      <td>1</td>\n      <td>1</td>\n      <td>0</td>\n      <td>0</td>\n      <td>2</td>\n      <td>1</td>\n    </tr>\n    <tr>\n      <th>7</th>\n      <td>LP001014</td>\n      <td>Male</td>\n      <td>Yes</td>\n      <td>3+</td>\n      <td>Graduate</td>\n      <td>No</td>\n      <td>3036</td>\n      <td>2504.0</td>\n      <td>158.000000</td>\n      <td>360.0</td>\n      <td>0.0</td>\n      <td>Semiurban</td>\n      <td>N</td>\n      <td>1</td>\n      <td>1</td>\n      <td>0</td>\n      <td>3</td>\n      <td>0</td>\n      <td>1</td>\n      <td>0</td>\n    </tr>\n    <tr>\n      <th>8</th>\n      <td>LP001018</td>\n      <td>Male</td>\n      <td>Yes</td>\n      <td>2</td>\n      <td>Graduate</td>\n      <td>No</td>\n      <td>4006</td>\n      <td>1526.0</td>\n      <td>168.000000</td>\n      <td>360.0</td>\n      <td>1.0</td>\n      <td>Urban</td>\n      <td>Y</td>\n      <td>1</td>\n      <td>1</td>\n      <td>0</td>\n      <td>2</td>\n      <td>0</td>\n      <td>2</td>\n      <td>1</td>\n    </tr>\n    <tr>\n      <th>9</th>\n      <td>LP001020</td>\n      <td>Male</td>\n      <td>Yes</td>\n      <td>1</td>\n      <td>Graduate</td>\n      <td>No</td>\n      <td>12841</td>\n      <td>10968.0</td>\n      <td>349.000000</td>\n      <td>360.0</td>\n      <td>1.0</td>\n      <td>Semiurban</td>\n      <td>N</td>\n      <td>1</td>\n      <td>1</td>\n      <td>0</td>\n      <td>1</td>\n      <td>0</td>\n      <td>1</td>\n      <td>0</td>\n    </tr>\n    <tr>\n      <th>10</th>\n      <td>LP001024</td>\n      <td>Male</td>\n      <td>Yes</td>\n      <td>2</td>\n      <td>Graduate</td>\n      <td>No</td>\n      <td>3200</td>\n      <td>700.0</td>\n      <td>70.000000</td>\n      <td>360.0</td>\n      <td>1.0</td>\n      <td>Urban</td>\n      <td>Y</td>\n      <td>1</td>\n      <td>1</td>\n      <td>0</td>\n      <td>2</td>\n      <td>0</td>\n      <td>2</td>\n      <td>1</td>\n    </tr>\n    <tr>\n      <th>11</th>\n      <td>LP001027</td>\n      <td>Male</td>\n      <td>Yes</td>\n      <td>2</td>\n      <td>Graduate</td>\n      <td>No</td>\n      <td>2500</td>\n      <td>1840.0</td>\n      <td>109.000000</td>\n      <td>360.0</td>\n      <td>1.0</td>\n      <td>Urban</td>\n      <td>Y</td>\n      <td>1</td>\n      <td>1</td>\n      <td>0</td>\n      <td>2</td>\n      <td>0</td>\n      <td>2</td>\n      <td>1</td>\n    </tr>\n    <tr>\n      <th>12</th>\n      <td>LP001028</td>\n      <td>Male</td>\n      <td>Yes</td>\n      <td>2</td>\n      <td>Graduate</td>\n      <td>No</td>\n      <td>3073</td>\n      <td>8106.0</td>\n      <td>200.000000</td>\n      <td>360.0</td>\n      <td>1.0</td>\n      <td>Urban</td>\n      <td>Y</td>\n      <td>1</td>\n      <td>1</td>\n      <td>0</td>\n      <td>2</td>\n      <td>0</td>\n      <td>2</td>\n      <td>1</td>\n    </tr>\n    <tr>\n      <th>13</th>\n      <td>LP001029</td>\n      <td>Male</td>\n      <td>No</td>\n      <td>0</td>\n      <td>Graduate</td>\n      <td>No</td>\n      <td>1853</td>\n      <td>2840.0</td>\n      <td>114.000000</td>\n      <td>360.0</td>\n      <td>1.0</td>\n      <td>Rural</td>\n      <td>N</td>\n      <td>1</td>\n      <td>0</td>\n      <td>0</td>\n      <td>0</td>\n      <td>0</td>\n      <td>0</td>\n      <td>0</td>\n    </tr>\n    <tr>\n      <th>14</th>\n      <td>LP001030</td>\n      <td>Male</td>\n      <td>Yes</td>\n      <td>2</td>\n      <td>Graduate</td>\n      <td>No</td>\n      <td>1299</td>\n      <td>1086.0</td>\n      <td>17.000000</td>\n      <td>120.0</td>\n      <td>1.0</td>\n      <td>Urban</td>\n      <td>Y</td>\n      <td>1</td>\n      <td>1</td>\n      <td>0</td>\n      <td>2</td>\n      <td>0</td>\n      <td>2</td>\n      <td>1</td>\n    </tr>\n    <tr>\n      <th>15</th>\n      <td>LP001032</td>\n      <td>Male</td>\n      <td>No</td>\n      <td>0</td>\n      <td>Graduate</td>\n      <td>No</td>\n      <td>4950</td>\n      <td>0.0</td>\n      <td>125.000000</td>\n      <td>360.0</td>\n      <td>1.0</td>\n      <td>Urban</td>\n      <td>Y</td>\n      <td>1</td>\n      <td>0</td>\n      <td>0</td>\n      <td>0</td>\n      <td>0</td>\n      <td>2</td>\n      <td>1</td>\n    </tr>\n    <tr>\n      <th>16</th>\n      <td>LP001034</td>\n      <td>Male</td>\n      <td>No</td>\n      <td>1</td>\n      <td>Not Graduate</td>\n      <td>No</td>\n      <td>3596</td>\n      <td>0.0</td>\n      <td>100.000000</td>\n      <td>240.0</td>\n      <td>1.0</td>\n      <td>Urban</td>\n      <td>Y</td>\n      <td>1</td>\n      <td>0</td>\n      <td>1</td>\n      <td>1</td>\n      <td>0</td>\n      <td>2</td>\n      <td>1</td>\n    </tr>\n    <tr>\n      <th>17</th>\n      <td>LP001036</td>\n      <td>Female</td>\n      <td>No</td>\n      <td>0</td>\n      <td>Graduate</td>\n      <td>No</td>\n      <td>3510</td>\n      <td>0.0</td>\n      <td>76.000000</td>\n      <td>360.0</td>\n      <td>0.0</td>\n      <td>Urban</td>\n      <td>N</td>\n      <td>0</td>\n      <td>0</td>\n      <td>0</td>\n      <td>0</td>\n      <td>0</td>\n      <td>2</td>\n      <td>0</td>\n    </tr>\n    <tr>\n      <th>18</th>\n      <td>LP001038</td>\n      <td>Male</td>\n      <td>Yes</td>\n      <td>0</td>\n      <td>Not Graduate</td>\n      <td>No</td>\n      <td>4887</td>\n      <td>0.0</td>\n      <td>133.000000</td>\n      <td>360.0</td>\n      <td>1.0</td>\n      <td>Rural</td>\n      <td>N</td>\n      <td>1</td>\n      <td>1</td>\n      <td>1</td>\n      <td>0</td>\n      <td>0</td>\n      <td>0</td>\n      <td>0</td>\n    </tr>\n    <tr>\n      <th>19</th>\n      <td>LP001041</td>\n      <td>Male</td>\n      <td>Yes</td>\n      <td>0</td>\n      <td>Graduate</td>\n      <td>No</td>\n      <td>2600</td>\n      <td>3500.0</td>\n      <td>115.000000</td>\n      <td>360.0</td>\n      <td>1.0</td>\n      <td>Urban</td>\n      <td>Y</td>\n      <td>1</td>\n      <td>1</td>\n      <td>0</td>\n      <td>0</td>\n      <td>0</td>\n      <td>2</td>\n      <td>1</td>\n    </tr>\n    <tr>\n      <th>20</th>\n      <td>LP001043</td>\n      <td>Male</td>\n      <td>Yes</td>\n      <td>0</td>\n      <td>Not Graduate</td>\n      <td>No</td>\n      <td>7660</td>\n      <td>0.0</td>\n      <td>104.000000</td>\n      <td>360.0</td>\n      <td>0.0</td>\n      <td>Urban</td>\n      <td>N</td>\n      <td>1</td>\n      <td>1</td>\n      <td>1</td>\n      <td>0</td>\n      <td>0</td>\n      <td>2</td>\n      <td>0</td>\n    </tr>\n    <tr>\n      <th>21</th>\n      <td>LP001046</td>\n      <td>Male</td>\n      <td>Yes</td>\n      <td>1</td>\n      <td>Graduate</td>\n      <td>No</td>\n      <td>5955</td>\n      <td>5625.0</td>\n      <td>315.000000</td>\n      <td>360.0</td>\n      <td>1.0</td>\n      <td>Urban</td>\n      <td>Y</td>\n      <td>1</td>\n      <td>1</td>\n      <td>0</td>\n      <td>1</td>\n      <td>0</td>\n      <td>2</td>\n      <td>1</td>\n    </tr>\n    <tr>\n      <th>22</th>\n      <td>LP001047</td>\n      <td>Male</td>\n      <td>Yes</td>\n      <td>0</td>\n      <td>Not Graduate</td>\n      <td>No</td>\n      <td>2600</td>\n      <td>1911.0</td>\n      <td>116.000000</td>\n      <td>360.0</td>\n      <td>0.0</td>\n      <td>Semiurban</td>\n      <td>N</td>\n      <td>1</td>\n      <td>1</td>\n      <td>1</td>\n      <td>0</td>\n      <td>0</td>\n      <td>1</td>\n      <td>0</td>\n    </tr>\n    <tr>\n      <th>23</th>\n      <td>LP001050</td>\n      <td>Male</td>\n      <td>Yes</td>\n      <td>2</td>\n      <td>Not Graduate</td>\n      <td>No</td>\n      <td>3365</td>\n      <td>1917.0</td>\n      <td>112.000000</td>\n      <td>360.0</td>\n      <td>0.0</td>\n      <td>Rural</td>\n      <td>N</td>\n      <td>1</td>\n      <td>1</td>\n      <td>1</td>\n      <td>2</td>\n      <td>0</td>\n      <td>0</td>\n      <td>0</td>\n    </tr>\n    <tr>\n      <th>24</th>\n      <td>LP001052</td>\n      <td>Male</td>\n      <td>Yes</td>\n      <td>1</td>\n      <td>Graduate</td>\n      <td>No</td>\n      <td>3717</td>\n      <td>2925.0</td>\n      <td>151.000000</td>\n      <td>360.0</td>\n      <td>1.0</td>\n      <td>Semiurban</td>\n      <td>N</td>\n      <td>1</td>\n      <td>1</td>\n      <td>0</td>\n      <td>1</td>\n      <td>0</td>\n      <td>1</td>\n      <td>0</td>\n    </tr>\n    <tr>\n      <th>25</th>\n      <td>LP001066</td>\n      <td>Male</td>\n      <td>Yes</td>\n      <td>0</td>\n      <td>Graduate</td>\n      <td>Yes</td>\n      <td>9560</td>\n      <td>0.0</td>\n      <td>191.000000</td>\n      <td>360.0</td>\n      <td>1.0</td>\n      <td>Semiurban</td>\n      <td>Y</td>\n      <td>1</td>\n      <td>1</td>\n      <td>0</td>\n      <td>0</td>\n      <td>1</td>\n      <td>1</td>\n      <td>1</td>\n    </tr>\n    <tr>\n      <th>26</th>\n      <td>LP001068</td>\n      <td>Male</td>\n      <td>Yes</td>\n      <td>0</td>\n      <td>Graduate</td>\n      <td>No</td>\n      <td>2799</td>\n      <td>2253.0</td>\n      <td>122.000000</td>\n      <td>360.0</td>\n      <td>1.0</td>\n      <td>Semiurban</td>\n      <td>Y</td>\n      <td>1</td>\n      <td>1</td>\n      <td>0</td>\n      <td>0</td>\n      <td>0</td>\n      <td>1</td>\n      <td>1</td>\n    </tr>\n    <tr>\n      <th>27</th>\n      <td>LP001073</td>\n      <td>Male</td>\n      <td>Yes</td>\n      <td>2</td>\n      <td>Not Graduate</td>\n      <td>No</td>\n      <td>4226</td>\n      <td>1040.0</td>\n      <td>110.000000</td>\n      <td>360.0</td>\n      <td>1.0</td>\n      <td>Urban</td>\n      <td>Y</td>\n      <td>1</td>\n      <td>1</td>\n      <td>1</td>\n      <td>2</td>\n      <td>0</td>\n      <td>2</td>\n      <td>1</td>\n    </tr>\n    <tr>\n      <th>28</th>\n      <td>LP001086</td>\n      <td>Male</td>\n      <td>No</td>\n      <td>0</td>\n      <td>Not Graduate</td>\n      <td>No</td>\n      <td>1442</td>\n      <td>0.0</td>\n      <td>35.000000</td>\n      <td>360.0</td>\n      <td>1.0</td>\n      <td>Urban</td>\n      <td>N</td>\n      <td>1</td>\n      <td>0</td>\n      <td>1</td>\n      <td>0</td>\n      <td>0</td>\n      <td>2</td>\n      <td>0</td>\n    </tr>\n    <tr>\n      <th>29</th>\n      <td>LP001087</td>\n      <td>Female</td>\n      <td>No</td>\n      <td>2</td>\n      <td>Graduate</td>\n      <td>No</td>\n      <td>3750</td>\n      <td>2083.0</td>\n      <td>120.000000</td>\n      <td>360.0</td>\n      <td>1.0</td>\n      <td>Semiurban</td>\n      <td>Y</td>\n      <td>0</td>\n      <td>0</td>\n      <td>0</td>\n      <td>2</td>\n      <td>0</td>\n      <td>1</td>\n      <td>1</td>\n    </tr>\n    <tr>\n      <th>...</th>\n      <td>...</td>\n      <td>...</td>\n      <td>...</td>\n      <td>...</td>\n      <td>...</td>\n      <td>...</td>\n      <td>...</td>\n      <td>...</td>\n      <td>...</td>\n      <td>...</td>\n      <td>...</td>\n      <td>...</td>\n      <td>...</td>\n      <td>...</td>\n      <td>...</td>\n      <td>...</td>\n      <td>...</td>\n      <td>...</td>\n      <td>...</td>\n      <td>...</td>\n    </tr>\n    <tr>\n      <th>584</th>\n      <td>LP002911</td>\n      <td>Male</td>\n      <td>Yes</td>\n      <td>1</td>\n      <td>Graduate</td>\n      <td>No</td>\n      <td>2787</td>\n      <td>1917.0</td>\n      <td>146.000000</td>\n      <td>360.0</td>\n      <td>0.0</td>\n      <td>Rural</td>\n      <td>N</td>\n      <td>1</td>\n      <td>1</td>\n      <td>0</td>\n      <td>1</td>\n      <td>0</td>\n      <td>0</td>\n      <td>0</td>\n    </tr>\n    <tr>\n      <th>585</th>\n      <td>LP002912</td>\n      <td>Male</td>\n      <td>Yes</td>\n      <td>1</td>\n      <td>Graduate</td>\n      <td>No</td>\n      <td>4283</td>\n      <td>3000.0</td>\n      <td>172.000000</td>\n      <td>84.0</td>\n      <td>1.0</td>\n      <td>Rural</td>\n      <td>N</td>\n      <td>1</td>\n      <td>1</td>\n      <td>0</td>\n      <td>1</td>\n      <td>0</td>\n      <td>0</td>\n      <td>0</td>\n    </tr>\n    <tr>\n      <th>586</th>\n      <td>LP002916</td>\n      <td>Male</td>\n      <td>Yes</td>\n      <td>0</td>\n      <td>Graduate</td>\n      <td>No</td>\n      <td>2297</td>\n      <td>1522.0</td>\n      <td>104.000000</td>\n      <td>360.0</td>\n      <td>1.0</td>\n      <td>Urban</td>\n      <td>Y</td>\n      <td>1</td>\n      <td>1</td>\n      <td>0</td>\n      <td>0</td>\n      <td>0</td>\n      <td>2</td>\n      <td>1</td>\n    </tr>\n    <tr>\n      <th>587</th>\n      <td>LP002917</td>\n      <td>Female</td>\n      <td>No</td>\n      <td>0</td>\n      <td>Not Graduate</td>\n      <td>No</td>\n      <td>2165</td>\n      <td>0.0</td>\n      <td>70.000000</td>\n      <td>360.0</td>\n      <td>1.0</td>\n      <td>Semiurban</td>\n      <td>Y</td>\n      <td>0</td>\n      <td>0</td>\n      <td>1</td>\n      <td>0</td>\n      <td>0</td>\n      <td>1</td>\n      <td>1</td>\n    </tr>\n    <tr>\n      <th>588</th>\n      <td>LP002925</td>\n      <td>Male</td>\n      <td>No</td>\n      <td>0</td>\n      <td>Graduate</td>\n      <td>No</td>\n      <td>4750</td>\n      <td>0.0</td>\n      <td>94.000000</td>\n      <td>360.0</td>\n      <td>1.0</td>\n      <td>Semiurban</td>\n      <td>Y</td>\n      <td>1</td>\n      <td>0</td>\n      <td>0</td>\n      <td>0</td>\n      <td>0</td>\n      <td>1</td>\n      <td>1</td>\n    </tr>\n    <tr>\n      <th>589</th>\n      <td>LP002926</td>\n      <td>Male</td>\n      <td>Yes</td>\n      <td>2</td>\n      <td>Graduate</td>\n      <td>Yes</td>\n      <td>2726</td>\n      <td>0.0</td>\n      <td>106.000000</td>\n      <td>360.0</td>\n      <td>0.0</td>\n      <td>Semiurban</td>\n      <td>N</td>\n      <td>1</td>\n      <td>1</td>\n      <td>0</td>\n      <td>2</td>\n      <td>1</td>\n      <td>1</td>\n      <td>0</td>\n    </tr>\n    <tr>\n      <th>590</th>\n      <td>LP002928</td>\n      <td>Male</td>\n      <td>Yes</td>\n      <td>0</td>\n      <td>Graduate</td>\n      <td>No</td>\n      <td>3000</td>\n      <td>3416.0</td>\n      <td>56.000000</td>\n      <td>180.0</td>\n      <td>1.0</td>\n      <td>Semiurban</td>\n      <td>Y</td>\n      <td>1</td>\n      <td>1</td>\n      <td>0</td>\n      <td>0</td>\n      <td>0</td>\n      <td>1</td>\n      <td>1</td>\n    </tr>\n    <tr>\n      <th>591</th>\n      <td>LP002931</td>\n      <td>Male</td>\n      <td>Yes</td>\n      <td>2</td>\n      <td>Graduate</td>\n      <td>Yes</td>\n      <td>6000</td>\n      <td>0.0</td>\n      <td>205.000000</td>\n      <td>240.0</td>\n      <td>1.0</td>\n      <td>Semiurban</td>\n      <td>N</td>\n      <td>1</td>\n      <td>1</td>\n      <td>0</td>\n      <td>2</td>\n      <td>1</td>\n      <td>1</td>\n      <td>0</td>\n    </tr>\n    <tr>\n      <th>592</th>\n      <td>LP002933</td>\n      <td>Male</td>\n      <td>No</td>\n      <td>3+</td>\n      <td>Graduate</td>\n      <td>Yes</td>\n      <td>9357</td>\n      <td>0.0</td>\n      <td>292.000000</td>\n      <td>360.0</td>\n      <td>1.0</td>\n      <td>Semiurban</td>\n      <td>Y</td>\n      <td>1</td>\n      <td>0</td>\n      <td>0</td>\n      <td>3</td>\n      <td>1</td>\n      <td>1</td>\n      <td>1</td>\n    </tr>\n    <tr>\n      <th>593</th>\n      <td>LP002936</td>\n      <td>Male</td>\n      <td>Yes</td>\n      <td>0</td>\n      <td>Graduate</td>\n      <td>No</td>\n      <td>3859</td>\n      <td>3300.0</td>\n      <td>142.000000</td>\n      <td>180.0</td>\n      <td>1.0</td>\n      <td>Rural</td>\n      <td>Y</td>\n      <td>1</td>\n      <td>1</td>\n      <td>0</td>\n      <td>0</td>\n      <td>0</td>\n      <td>0</td>\n      <td>1</td>\n    </tr>\n    <tr>\n      <th>594</th>\n      <td>LP002938</td>\n      <td>Male</td>\n      <td>Yes</td>\n      <td>0</td>\n      <td>Graduate</td>\n      <td>Yes</td>\n      <td>16120</td>\n      <td>0.0</td>\n      <td>260.000000</td>\n      <td>360.0</td>\n      <td>1.0</td>\n      <td>Urban</td>\n      <td>Y</td>\n      <td>1</td>\n      <td>1</td>\n      <td>0</td>\n      <td>0</td>\n      <td>1</td>\n      <td>2</td>\n      <td>1</td>\n    </tr>\n    <tr>\n      <th>595</th>\n      <td>LP002940</td>\n      <td>Male</td>\n      <td>No</td>\n      <td>0</td>\n      <td>Not Graduate</td>\n      <td>No</td>\n      <td>3833</td>\n      <td>0.0</td>\n      <td>110.000000</td>\n      <td>360.0</td>\n      <td>1.0</td>\n      <td>Rural</td>\n      <td>Y</td>\n      <td>1</td>\n      <td>0</td>\n      <td>1</td>\n      <td>0</td>\n      <td>0</td>\n      <td>0</td>\n      <td>1</td>\n    </tr>\n    <tr>\n      <th>596</th>\n      <td>LP002941</td>\n      <td>Male</td>\n      <td>Yes</td>\n      <td>2</td>\n      <td>Not Graduate</td>\n      <td>Yes</td>\n      <td>6383</td>\n      <td>1000.0</td>\n      <td>187.000000</td>\n      <td>360.0</td>\n      <td>1.0</td>\n      <td>Rural</td>\n      <td>N</td>\n      <td>1</td>\n      <td>1</td>\n      <td>1</td>\n      <td>2</td>\n      <td>1</td>\n      <td>0</td>\n      <td>0</td>\n    </tr>\n    <tr>\n      <th>597</th>\n      <td>LP002943</td>\n      <td>Male</td>\n      <td>No</td>\n      <td>0</td>\n      <td>Graduate</td>\n      <td>No</td>\n      <td>2987</td>\n      <td>0.0</td>\n      <td>88.000000</td>\n      <td>360.0</td>\n      <td>0.0</td>\n      <td>Semiurban</td>\n      <td>N</td>\n      <td>1</td>\n      <td>0</td>\n      <td>0</td>\n      <td>0</td>\n      <td>0</td>\n      <td>1</td>\n      <td>0</td>\n    </tr>\n    <tr>\n      <th>598</th>\n      <td>LP002945</td>\n      <td>Male</td>\n      <td>Yes</td>\n      <td>0</td>\n      <td>Graduate</td>\n      <td>Yes</td>\n      <td>9963</td>\n      <td>0.0</td>\n      <td>180.000000</td>\n      <td>360.0</td>\n      <td>1.0</td>\n      <td>Rural</td>\n      <td>Y</td>\n      <td>1</td>\n      <td>1</td>\n      <td>0</td>\n      <td>0</td>\n      <td>1</td>\n      <td>0</td>\n      <td>1</td>\n    </tr>\n    <tr>\n      <th>599</th>\n      <td>LP002948</td>\n      <td>Male</td>\n      <td>Yes</td>\n      <td>2</td>\n      <td>Graduate</td>\n      <td>No</td>\n      <td>5780</td>\n      <td>0.0</td>\n      <td>192.000000</td>\n      <td>360.0</td>\n      <td>1.0</td>\n      <td>Urban</td>\n      <td>Y</td>\n      <td>1</td>\n      <td>1</td>\n      <td>0</td>\n      <td>2</td>\n      <td>0</td>\n      <td>2</td>\n      <td>1</td>\n    </tr>\n    <tr>\n      <th>600</th>\n      <td>LP002949</td>\n      <td>Female</td>\n      <td>No</td>\n      <td>3+</td>\n      <td>Graduate</td>\n      <td>No</td>\n      <td>416</td>\n      <td>41667.0</td>\n      <td>350.000000</td>\n      <td>180.0</td>\n      <td>1.0</td>\n      <td>Urban</td>\n      <td>N</td>\n      <td>0</td>\n      <td>0</td>\n      <td>0</td>\n      <td>3</td>\n      <td>0</td>\n      <td>2</td>\n      <td>0</td>\n    </tr>\n    <tr>\n      <th>601</th>\n      <td>LP002950</td>\n      <td>Male</td>\n      <td>Yes</td>\n      <td>0</td>\n      <td>Not Graduate</td>\n      <td>No</td>\n      <td>2894</td>\n      <td>2792.0</td>\n      <td>155.000000</td>\n      <td>360.0</td>\n      <td>1.0</td>\n      <td>Rural</td>\n      <td>Y</td>\n      <td>1</td>\n      <td>1</td>\n      <td>1</td>\n      <td>0</td>\n      <td>0</td>\n      <td>0</td>\n      <td>1</td>\n    </tr>\n    <tr>\n      <th>602</th>\n      <td>LP002953</td>\n      <td>Male</td>\n      <td>Yes</td>\n      <td>3+</td>\n      <td>Graduate</td>\n      <td>No</td>\n      <td>5703</td>\n      <td>0.0</td>\n      <td>128.000000</td>\n      <td>360.0</td>\n      <td>1.0</td>\n      <td>Urban</td>\n      <td>Y</td>\n      <td>1</td>\n      <td>1</td>\n      <td>0</td>\n      <td>3</td>\n      <td>0</td>\n      <td>2</td>\n      <td>1</td>\n    </tr>\n    <tr>\n      <th>603</th>\n      <td>LP002958</td>\n      <td>Male</td>\n      <td>No</td>\n      <td>0</td>\n      <td>Graduate</td>\n      <td>No</td>\n      <td>3676</td>\n      <td>4301.0</td>\n      <td>172.000000</td>\n      <td>360.0</td>\n      <td>1.0</td>\n      <td>Rural</td>\n      <td>Y</td>\n      <td>1</td>\n      <td>0</td>\n      <td>0</td>\n      <td>0</td>\n      <td>0</td>\n      <td>0</td>\n      <td>1</td>\n    </tr>\n    <tr>\n      <th>604</th>\n      <td>LP002959</td>\n      <td>Female</td>\n      <td>Yes</td>\n      <td>1</td>\n      <td>Graduate</td>\n      <td>No</td>\n      <td>12000</td>\n      <td>0.0</td>\n      <td>496.000000</td>\n      <td>360.0</td>\n      <td>1.0</td>\n      <td>Semiurban</td>\n      <td>Y</td>\n      <td>0</td>\n      <td>1</td>\n      <td>0</td>\n      <td>1</td>\n      <td>0</td>\n      <td>1</td>\n      <td>1</td>\n    </tr>\n    <tr>\n      <th>605</th>\n      <td>LP002960</td>\n      <td>Male</td>\n      <td>Yes</td>\n      <td>0</td>\n      <td>Not Graduate</td>\n      <td>No</td>\n      <td>2400</td>\n      <td>3800.0</td>\n      <td>146.412162</td>\n      <td>180.0</td>\n      <td>1.0</td>\n      <td>Urban</td>\n      <td>N</td>\n      <td>1</td>\n      <td>1</td>\n      <td>1</td>\n      <td>0</td>\n      <td>0</td>\n      <td>2</td>\n      <td>0</td>\n    </tr>\n    <tr>\n      <th>606</th>\n      <td>LP002961</td>\n      <td>Male</td>\n      <td>Yes</td>\n      <td>1</td>\n      <td>Graduate</td>\n      <td>No</td>\n      <td>3400</td>\n      <td>2500.0</td>\n      <td>173.000000</td>\n      <td>360.0</td>\n      <td>1.0</td>\n      <td>Semiurban</td>\n      <td>Y</td>\n      <td>1</td>\n      <td>1</td>\n      <td>0</td>\n      <td>1</td>\n      <td>0</td>\n      <td>1</td>\n      <td>1</td>\n    </tr>\n    <tr>\n      <th>607</th>\n      <td>LP002964</td>\n      <td>Male</td>\n      <td>Yes</td>\n      <td>2</td>\n      <td>Not Graduate</td>\n      <td>No</td>\n      <td>3987</td>\n      <td>1411.0</td>\n      <td>157.000000</td>\n      <td>360.0</td>\n      <td>1.0</td>\n      <td>Rural</td>\n      <td>Y</td>\n      <td>1</td>\n      <td>1</td>\n      <td>1</td>\n      <td>2</td>\n      <td>0</td>\n      <td>0</td>\n      <td>1</td>\n    </tr>\n    <tr>\n      <th>608</th>\n      <td>LP002974</td>\n      <td>Male</td>\n      <td>Yes</td>\n      <td>0</td>\n      <td>Graduate</td>\n      <td>No</td>\n      <td>3232</td>\n      <td>1950.0</td>\n      <td>108.000000</td>\n      <td>360.0</td>\n      <td>1.0</td>\n      <td>Rural</td>\n      <td>Y</td>\n      <td>1</td>\n      <td>1</td>\n      <td>0</td>\n      <td>0</td>\n      <td>0</td>\n      <td>0</td>\n      <td>1</td>\n    </tr>\n    <tr>\n      <th>609</th>\n      <td>LP002978</td>\n      <td>Female</td>\n      <td>No</td>\n      <td>0</td>\n      <td>Graduate</td>\n      <td>No</td>\n      <td>2900</td>\n      <td>0.0</td>\n      <td>71.000000</td>\n      <td>360.0</td>\n      <td>1.0</td>\n      <td>Rural</td>\n      <td>Y</td>\n      <td>0</td>\n      <td>0</td>\n      <td>0</td>\n      <td>0</td>\n      <td>0</td>\n      <td>0</td>\n      <td>1</td>\n    </tr>\n    <tr>\n      <th>610</th>\n      <td>LP002979</td>\n      <td>Male</td>\n      <td>Yes</td>\n      <td>3+</td>\n      <td>Graduate</td>\n      <td>No</td>\n      <td>4106</td>\n      <td>0.0</td>\n      <td>40.000000</td>\n      <td>180.0</td>\n      <td>1.0</td>\n      <td>Rural</td>\n      <td>Y</td>\n      <td>1</td>\n      <td>1</td>\n      <td>0</td>\n      <td>3</td>\n      <td>0</td>\n      <td>0</td>\n      <td>1</td>\n    </tr>\n    <tr>\n      <th>611</th>\n      <td>LP002983</td>\n      <td>Male</td>\n      <td>Yes</td>\n      <td>1</td>\n      <td>Graduate</td>\n      <td>No</td>\n      <td>8072</td>\n      <td>240.0</td>\n      <td>253.000000</td>\n      <td>360.0</td>\n      <td>1.0</td>\n      <td>Urban</td>\n      <td>Y</td>\n      <td>1</td>\n      <td>1</td>\n      <td>0</td>\n      <td>1</td>\n      <td>0</td>\n      <td>2</td>\n      <td>1</td>\n    </tr>\n    <tr>\n      <th>612</th>\n      <td>LP002984</td>\n      <td>Male</td>\n      <td>Yes</td>\n      <td>2</td>\n      <td>Graduate</td>\n      <td>No</td>\n      <td>7583</td>\n      <td>0.0</td>\n      <td>187.000000</td>\n      <td>360.0</td>\n      <td>1.0</td>\n      <td>Urban</td>\n      <td>Y</td>\n      <td>1</td>\n      <td>1</td>\n      <td>0</td>\n      <td>2</td>\n      <td>0</td>\n      <td>2</td>\n      <td>1</td>\n    </tr>\n    <tr>\n      <th>613</th>\n      <td>LP002990</td>\n      <td>Female</td>\n      <td>No</td>\n      <td>0</td>\n      <td>Graduate</td>\n      <td>Yes</td>\n      <td>4583</td>\n      <td>0.0</td>\n      <td>133.000000</td>\n      <td>360.0</td>\n      <td>0.0</td>\n      <td>Semiurban</td>\n      <td>N</td>\n      <td>0</td>\n      <td>0</td>\n      <td>0</td>\n      <td>0</td>\n      <td>1</td>\n      <td>1</td>\n      <td>0</td>\n    </tr>\n  </tbody>\n</table>\n<p>614 rows × 20 columns</p>\n</div>",
            "text/plain": "      Loan_ID  Gender Married Dependents     Education Self_Employed  \\\n0    LP001002    Male      No          0      Graduate            No   \n1    LP001003    Male     Yes          1      Graduate            No   \n2    LP001005    Male     Yes          0      Graduate           Yes   \n3    LP001006    Male     Yes          0  Not Graduate            No   \n4    LP001008    Male      No          0      Graduate            No   \n5    LP001011    Male     Yes          2      Graduate           Yes   \n6    LP001013    Male     Yes          0  Not Graduate            No   \n7    LP001014    Male     Yes         3+      Graduate            No   \n8    LP001018    Male     Yes          2      Graduate            No   \n9    LP001020    Male     Yes          1      Graduate            No   \n10   LP001024    Male     Yes          2      Graduate            No   \n11   LP001027    Male     Yes          2      Graduate            No   \n12   LP001028    Male     Yes          2      Graduate            No   \n13   LP001029    Male      No          0      Graduate            No   \n14   LP001030    Male     Yes          2      Graduate            No   \n15   LP001032    Male      No          0      Graduate            No   \n16   LP001034    Male      No          1  Not Graduate            No   \n17   LP001036  Female      No          0      Graduate            No   \n18   LP001038    Male     Yes          0  Not Graduate            No   \n19   LP001041    Male     Yes          0      Graduate            No   \n20   LP001043    Male     Yes          0  Not Graduate            No   \n21   LP001046    Male     Yes          1      Graduate            No   \n22   LP001047    Male     Yes          0  Not Graduate            No   \n23   LP001050    Male     Yes          2  Not Graduate            No   \n24   LP001052    Male     Yes          1      Graduate            No   \n25   LP001066    Male     Yes          0      Graduate           Yes   \n26   LP001068    Male     Yes          0      Graduate            No   \n27   LP001073    Male     Yes          2  Not Graduate            No   \n28   LP001086    Male      No          0  Not Graduate            No   \n29   LP001087  Female      No          2      Graduate            No   \n..        ...     ...     ...        ...           ...           ...   \n584  LP002911    Male     Yes          1      Graduate            No   \n585  LP002912    Male     Yes          1      Graduate            No   \n586  LP002916    Male     Yes          0      Graduate            No   \n587  LP002917  Female      No          0  Not Graduate            No   \n588  LP002925    Male      No          0      Graduate            No   \n589  LP002926    Male     Yes          2      Graduate           Yes   \n590  LP002928    Male     Yes          0      Graduate            No   \n591  LP002931    Male     Yes          2      Graduate           Yes   \n592  LP002933    Male      No         3+      Graduate           Yes   \n593  LP002936    Male     Yes          0      Graduate            No   \n594  LP002938    Male     Yes          0      Graduate           Yes   \n595  LP002940    Male      No          0  Not Graduate            No   \n596  LP002941    Male     Yes          2  Not Graduate           Yes   \n597  LP002943    Male      No          0      Graduate            No   \n598  LP002945    Male     Yes          0      Graduate           Yes   \n599  LP002948    Male     Yes          2      Graduate            No   \n600  LP002949  Female      No         3+      Graduate            No   \n601  LP002950    Male     Yes          0  Not Graduate            No   \n602  LP002953    Male     Yes         3+      Graduate            No   \n603  LP002958    Male      No          0      Graduate            No   \n604  LP002959  Female     Yes          1      Graduate            No   \n605  LP002960    Male     Yes          0  Not Graduate            No   \n606  LP002961    Male     Yes          1      Graduate            No   \n607  LP002964    Male     Yes          2  Not Graduate            No   \n608  LP002974    Male     Yes          0      Graduate            No   \n609  LP002978  Female      No          0      Graduate            No   \n610  LP002979    Male     Yes         3+      Graduate            No   \n611  LP002983    Male     Yes          1      Graduate            No   \n612  LP002984    Male     Yes          2      Graduate            No   \n613  LP002990  Female      No          0      Graduate           Yes   \n\n     ApplicantIncome  CoapplicantIncome  LoanAmount  Loan_Amount_Term  \\\n0               5849                0.0  146.412162             360.0   \n1               4583             1508.0  128.000000             360.0   \n2               3000                0.0   66.000000             360.0   \n3               2583             2358.0  120.000000             360.0   \n4               6000                0.0  141.000000             360.0   \n5               5417             4196.0  267.000000             360.0   \n6               2333             1516.0   95.000000             360.0   \n7               3036             2504.0  158.000000             360.0   \n8               4006             1526.0  168.000000             360.0   \n9              12841            10968.0  349.000000             360.0   \n10              3200              700.0   70.000000             360.0   \n11              2500             1840.0  109.000000             360.0   \n12              3073             8106.0  200.000000             360.0   \n13              1853             2840.0  114.000000             360.0   \n14              1299             1086.0   17.000000             120.0   \n15              4950                0.0  125.000000             360.0   \n16              3596                0.0  100.000000             240.0   \n17              3510                0.0   76.000000             360.0   \n18              4887                0.0  133.000000             360.0   \n19              2600             3500.0  115.000000             360.0   \n20              7660                0.0  104.000000             360.0   \n21              5955             5625.0  315.000000             360.0   \n22              2600             1911.0  116.000000             360.0   \n23              3365             1917.0  112.000000             360.0   \n24              3717             2925.0  151.000000             360.0   \n25              9560                0.0  191.000000             360.0   \n26              2799             2253.0  122.000000             360.0   \n27              4226             1040.0  110.000000             360.0   \n28              1442                0.0   35.000000             360.0   \n29              3750             2083.0  120.000000             360.0   \n..               ...                ...         ...               ...   \n584             2787             1917.0  146.000000             360.0   \n585             4283             3000.0  172.000000              84.0   \n586             2297             1522.0  104.000000             360.0   \n587             2165                0.0   70.000000             360.0   \n588             4750                0.0   94.000000             360.0   \n589             2726                0.0  106.000000             360.0   \n590             3000             3416.0   56.000000             180.0   \n591             6000                0.0  205.000000             240.0   \n592             9357                0.0  292.000000             360.0   \n593             3859             3300.0  142.000000             180.0   \n594            16120                0.0  260.000000             360.0   \n595             3833                0.0  110.000000             360.0   \n596             6383             1000.0  187.000000             360.0   \n597             2987                0.0   88.000000             360.0   \n598             9963                0.0  180.000000             360.0   \n599             5780                0.0  192.000000             360.0   \n600              416            41667.0  350.000000             180.0   \n601             2894             2792.0  155.000000             360.0   \n602             5703                0.0  128.000000             360.0   \n603             3676             4301.0  172.000000             360.0   \n604            12000                0.0  496.000000             360.0   \n605             2400             3800.0  146.412162             180.0   \n606             3400             2500.0  173.000000             360.0   \n607             3987             1411.0  157.000000             360.0   \n608             3232             1950.0  108.000000             360.0   \n609             2900                0.0   71.000000             360.0   \n610             4106                0.0   40.000000             180.0   \n611             8072              240.0  253.000000             360.0   \n612             7583                0.0  187.000000             360.0   \n613             4583                0.0  133.000000             360.0   \n\n     Credit_History Property_Area Loan_Status  Gender_n  Married_n  \\\n0               1.0         Urban           Y         1          0   \n1               1.0         Rural           N         1          1   \n2               1.0         Urban           Y         1          1   \n3               1.0         Urban           Y         1          1   \n4               1.0         Urban           Y         1          0   \n5               1.0         Urban           Y         1          1   \n6               1.0         Urban           Y         1          1   \n7               0.0     Semiurban           N         1          1   \n8               1.0         Urban           Y         1          1   \n9               1.0     Semiurban           N         1          1   \n10              1.0         Urban           Y         1          1   \n11              1.0         Urban           Y         1          1   \n12              1.0         Urban           Y         1          1   \n13              1.0         Rural           N         1          0   \n14              1.0         Urban           Y         1          1   \n15              1.0         Urban           Y         1          0   \n16              1.0         Urban           Y         1          0   \n17              0.0         Urban           N         0          0   \n18              1.0         Rural           N         1          1   \n19              1.0         Urban           Y         1          1   \n20              0.0         Urban           N         1          1   \n21              1.0         Urban           Y         1          1   \n22              0.0     Semiurban           N         1          1   \n23              0.0         Rural           N         1          1   \n24              1.0     Semiurban           N         1          1   \n25              1.0     Semiurban           Y         1          1   \n26              1.0     Semiurban           Y         1          1   \n27              1.0         Urban           Y         1          1   \n28              1.0         Urban           N         1          0   \n29              1.0     Semiurban           Y         0          0   \n..              ...           ...         ...       ...        ...   \n584             0.0         Rural           N         1          1   \n585             1.0         Rural           N         1          1   \n586             1.0         Urban           Y         1          1   \n587             1.0     Semiurban           Y         0          0   \n588             1.0     Semiurban           Y         1          0   \n589             0.0     Semiurban           N         1          1   \n590             1.0     Semiurban           Y         1          1   \n591             1.0     Semiurban           N         1          1   \n592             1.0     Semiurban           Y         1          0   \n593             1.0         Rural           Y         1          1   \n594             1.0         Urban           Y         1          1   \n595             1.0         Rural           Y         1          0   \n596             1.0         Rural           N         1          1   \n597             0.0     Semiurban           N         1          0   \n598             1.0         Rural           Y         1          1   \n599             1.0         Urban           Y         1          1   \n600             1.0         Urban           N         0          0   \n601             1.0         Rural           Y         1          1   \n602             1.0         Urban           Y         1          1   \n603             1.0         Rural           Y         1          0   \n604             1.0     Semiurban           Y         0          1   \n605             1.0         Urban           N         1          1   \n606             1.0     Semiurban           Y         1          1   \n607             1.0         Rural           Y         1          1   \n608             1.0         Rural           Y         1          1   \n609             1.0         Rural           Y         0          0   \n610             1.0         Rural           Y         1          1   \n611             1.0         Urban           Y         1          1   \n612             1.0         Urban           Y         1          1   \n613             0.0     Semiurban           N         0          0   \n\n     Education_n  Dependents_n  Self_Employed_n  Property_Area_n  \\\n0              0             0                0                2   \n1              0             1                0                0   \n2              0             0                1                2   \n3              1             0                0                2   \n4              0             0                0                2   \n5              0             2                1                2   \n6              1             0                0                2   \n7              0             3                0                1   \n8              0             2                0                2   \n9              0             1                0                1   \n10             0             2                0                2   \n11             0             2                0                2   \n12             0             2                0                2   \n13             0             0                0                0   \n14             0             2                0                2   \n15             0             0                0                2   \n16             1             1                0                2   \n17             0             0                0                2   \n18             1             0                0                0   \n19             0             0                0                2   \n20             1             0                0                2   \n21             0             1                0                2   \n22             1             0                0                1   \n23             1             2                0                0   \n24             0             1                0                1   \n25             0             0                1                1   \n26             0             0                0                1   \n27             1             2                0                2   \n28             1             0                0                2   \n29             0             2                0                1   \n..           ...           ...              ...              ...   \n584            0             1                0                0   \n585            0             1                0                0   \n586            0             0                0                2   \n587            1             0                0                1   \n588            0             0                0                1   \n589            0             2                1                1   \n590            0             0                0                1   \n591            0             2                1                1   \n592            0             3                1                1   \n593            0             0                0                0   \n594            0             0                1                2   \n595            1             0                0                0   \n596            1             2                1                0   \n597            0             0                0                1   \n598            0             0                1                0   \n599            0             2                0                2   \n600            0             3                0                2   \n601            1             0                0                0   \n602            0             3                0                2   \n603            0             0                0                0   \n604            0             1                0                1   \n605            1             0                0                2   \n606            0             1                0                1   \n607            1             2                0                0   \n608            0             0                0                0   \n609            0             0                0                0   \n610            0             3                0                0   \n611            0             1                0                2   \n612            0             2                0                2   \n613            0             0                1                1   \n\n     Loan_Status_n  \n0                1  \n1                0  \n2                1  \n3                1  \n4                1  \n5                1  \n6                1  \n7                0  \n8                1  \n9                0  \n10               1  \n11               1  \n12               1  \n13               0  \n14               1  \n15               1  \n16               1  \n17               0  \n18               0  \n19               1  \n20               0  \n21               1  \n22               0  \n23               0  \n24               0  \n25               1  \n26               1  \n27               1  \n28               0  \n29               1  \n..             ...  \n584              0  \n585              0  \n586              1  \n587              1  \n588              1  \n589              0  \n590              1  \n591              0  \n592              1  \n593              1  \n594              1  \n595              1  \n596              0  \n597              0  \n598              1  \n599              1  \n600              0  \n601              1  \n602              1  \n603              1  \n604              1  \n605              0  \n606              1  \n607              1  \n608              1  \n609              1  \n610              1  \n611              1  \n612              1  \n613              0  \n\n[614 rows x 20 columns]"
          },
          "metadata": {}
        }
      ]
    },
    {
      "metadata": {
        "trusted": true
      },
      "cell_type": "code",
      "source": "X = df.drop(['Loan_Status_n','Loan_Status','Gender','Education','Self_Employed','Dependents','Married','Property_Area','Loan_ID'], axis=1)\ny = df[\"Loan_Status_n\"]\ny",
      "execution_count": 28,
      "outputs": [
        {
          "output_type": "execute_result",
          "execution_count": 28,
          "data": {
            "text/plain": "0      1\n1      0\n2      1\n3      1\n4      1\n5      1\n6      1\n7      0\n8      1\n9      0\n10     1\n11     1\n12     1\n13     0\n14     1\n15     1\n16     1\n17     0\n18     0\n19     1\n20     0\n21     1\n22     0\n23     0\n24     0\n25     1\n26     1\n27     1\n28     0\n29     1\n      ..\n584    0\n585    0\n586    1\n587    1\n588    1\n589    0\n590    1\n591    0\n592    1\n593    1\n594    1\n595    1\n596    0\n597    0\n598    1\n599    1\n600    0\n601    1\n602    1\n603    1\n604    1\n605    0\n606    1\n607    1\n608    1\n609    1\n610    1\n611    1\n612    1\n613    0\nName: Loan_Status_n, Length: 614, dtype: int64"
          },
          "metadata": {}
        }
      ]
    },
    {
      "metadata": {
        "trusted": true
      },
      "cell_type": "code",
      "source": "X_train, X_test, y_train, y_test = train_test_split(X, y, test_size=0.2,random_state=0)",
      "execution_count": 29,
      "outputs": []
    },
    {
      "metadata": {
        "trusted": true
      },
      "cell_type": "code",
      "source": "from sklearn.svm import SVC\nmodel = SVC()",
      "execution_count": 30,
      "outputs": []
    },
    {
      "metadata": {
        "trusted": true
      },
      "cell_type": "code",
      "source": "model.fit(X_train, y_train)",
      "execution_count": 31,
      "outputs": [
        {
          "output_type": "stream",
          "text": "/home/nbuser/anaconda3_501/lib/python3.6/site-packages/sklearn/svm/base.py:196: FutureWarning: The default value of gamma will change from 'auto' to 'scale' in version 0.22 to account better for unscaled features. Set gamma explicitly to 'auto' or 'scale' to avoid this warning.\n  \"avoid this warning.\", FutureWarning)\n",
          "name": "stderr"
        },
        {
          "output_type": "execute_result",
          "execution_count": 31,
          "data": {
            "text/plain": "SVC(C=1.0, cache_size=200, class_weight=None, coef0=0.0,\n  decision_function_shape='ovr', degree=3, gamma='auto_deprecated',\n  kernel='rbf', max_iter=-1, probability=False, random_state=None,\n  shrinking=True, tol=0.001, verbose=False)"
          },
          "metadata": {}
        }
      ]
    },
    {
      "metadata": {
        "trusted": true
      },
      "cell_type": "code",
      "source": "svm_acc=model.score(X_test, y_test)",
      "execution_count": 32,
      "outputs": []
    },
    {
      "metadata": {
        "trusted": true
      },
      "cell_type": "code",
      "source": "svm_acc",
      "execution_count": 33,
      "outputs": [
        {
          "output_type": "execute_result",
          "execution_count": 33,
          "data": {
            "text/plain": "0.7398373983739838"
          },
          "metadata": {}
        }
      ]
    },
    {
      "metadata": {
        "trusted": true
      },
      "cell_type": "code",
      "source": "df1 = df.drop(['Loan_Status','Gender','Education','Self_Employed','Dependents','Married','Property_Area','Loan_ID'],axis=1)",
      "execution_count": 34,
      "outputs": []
    },
    {
      "metadata": {
        "trusted": true
      },
      "cell_type": "code",
      "source": "from sklearn.preprocessing import StandardScaler",
      "execution_count": 35,
      "outputs": []
    },
    {
      "metadata": {
        "trusted": true
      },
      "cell_type": "code",
      "source": "scaler = StandardScaler()",
      "execution_count": 36,
      "outputs": []
    },
    {
      "metadata": {
        "trusted": true
      },
      "cell_type": "code",
      "source": "scaler.fit(df1.drop('Loan_Status_n',axis=1))",
      "execution_count": 37,
      "outputs": [
        {
          "output_type": "stream",
          "text": "/home/nbuser/anaconda3_501/lib/python3.6/site-packages/sklearn/preprocessing/data.py:645: DataConversionWarning: Data with input dtype int64, float64 were all converted to float64 by StandardScaler.\n  return self.partial_fit(X, y)\n",
          "name": "stderr"
        },
        {
          "output_type": "execute_result",
          "execution_count": 37,
          "data": {
            "text/plain": "StandardScaler(copy=True, with_mean=True, with_std=True)"
          },
          "metadata": {}
        }
      ]
    },
    {
      "metadata": {
        "trusted": true
      },
      "cell_type": "code",
      "source": "scaled_features = scaler.transform(df1.drop('Loan_Status_n',axis=1))\nscaled_features",
      "execution_count": 38,
      "outputs": [
        {
          "output_type": "stream",
          "text": "/home/nbuser/anaconda3_501/lib/python3.6/site-packages/ipykernel/__main__.py:1: DataConversionWarning: Data with input dtype int64, float64 were all converted to float64 by StandardScaler.\n  if __name__ == '__main__':\n",
          "name": "stderr"
        },
        {
          "output_type": "execute_result",
          "execution_count": 38,
          "data": {
            "text/plain": "array([[ 0.07299082, -0.55448733,  0.        , ..., -0.73780632,\n        -0.39260074,  1.22329839],\n       [-0.13441195, -0.03873155, -0.21927331, ...,  0.25346957,\n        -0.39260074, -1.31851281],\n       [-0.39374734, -0.55448733, -0.957641  , ..., -0.73780632,\n         2.54711697,  1.22329839],\n       ...,\n       [ 0.43717437, -0.47240418,  1.26937121, ...,  0.25346957,\n        -0.39260074,  1.22329839],\n       [ 0.35706382, -0.55448733,  0.4833669 , ...,  1.24474546,\n        -0.39260074,  1.22329839],\n       [-0.13441195, -0.55448733, -0.15972753, ..., -0.73780632,\n         2.54711697, -0.04760721]])"
          },
          "metadata": {}
        }
      ]
    },
    {
      "metadata": {
        "trusted": true
      },
      "cell_type": "code",
      "source": "X_train, X_test, y_train, y_test = train_test_split(scaled_features,df1['Loan_Status_n'],\n                                                    test_size=0.30)",
      "execution_count": 39,
      "outputs": []
    },
    {
      "metadata": {
        "trusted": true
      },
      "cell_type": "code",
      "source": "accuracy_rate = []\n\n# Will take some time\nfor i in range(1,40):\n    \n    knn = KNeighborsClassifier(n_neighbors=i)\n    score=cross_val_score(knn,scaled_features,df1['Loan_Status_n'],cv=10)\n    accuracy_rate.append(score.mean())",
      "execution_count": 40,
      "outputs": []
    },
    {
      "metadata": {
        "trusted": true
      },
      "cell_type": "code",
      "source": "error_rate = []\n\n# Will take some time\nfor i in range(1,40):\n    \n    knn = KNeighborsClassifier(n_neighbors=i)\n    score=cross_val_score(knn,scaled_features,df['Loan_Status_n'],cv=10)\n    error_rate.append(1-score.mean())",
      "execution_count": 41,
      "outputs": []
    },
    {
      "metadata": {
        "trusted": true
      },
      "cell_type": "code",
      "source": "plt.figure(figsize=(10,6))\nplt.plot(range(1,40),error_rate,color='blue', linestyle='dashed', marker='o',\n        markerfacecolor='red', markersize=10)\n#plt.plot(range(1,40),accuracy_rate,color='blue', linestyle='dashed', marker='o',\n        # markerfacecolor='red', markersize=10)\nplt.title('Error Rate vs. K Value')\nplt.xlabel('K')\nplt.ylabel('Error Rate')",
      "execution_count": 42,
      "outputs": [
        {
          "output_type": "execute_result",
          "execution_count": 42,
          "data": {
            "text/plain": "Text(0, 0.5, 'Error Rate')"
          },
          "metadata": {}
        },
        {
          "output_type": "display_data",
          "data": {
            "image/png": "[encoded data removed]",
            "text/plain": "<Figure size 720x432 with 1 Axes>"
          },
          "metadata": {
            "needs_background": "light"
          }
        }
      ]
    },
    {
      "metadata": {
        "trusted": true
      },
      "cell_type": "code",
      "source": "knn = KNeighborsClassifier(n_neighbors=9)\n\nknn.fit(X_train,y_train)\npred = knn.predict(X_test)\n\nprint('WITH K=9')\nprint('\\n')\nprint(confusion_matrix(y_test,pred))\nprint('\\n')\n",
      "execution_count": 43,
      "outputs": [
        {
          "output_type": "stream",
          "text": "WITH K=9\n\n\n[[ 26  24]\n [  5 130]]\n\n\n",
          "name": "stdout"
        }
      ]
    },
    {
      "metadata": {
        "trusted": true
      },
      "cell_type": "code",
      "source": "knn_acc=knn.score(X_test,y_test)",
      "execution_count": 44,
      "outputs": []
    },
    {
      "metadata": {
        "trusted": true
      },
      "cell_type": "code",
      "source": "knn_acc",
      "execution_count": 45,
      "outputs": [
        {
          "output_type": "execute_result",
          "execution_count": 45,
          "data": {
            "text/plain": "0.8432432432432433"
          },
          "metadata": {}
        }
      ]
    },
    {
      "metadata": {
        "trusted": true
      },
      "cell_type": "code",
      "source": "X_train, X_test, y_train, y_test = train_test_split(X, y, test_size=0.2,random_state=0)",
      "execution_count": 46,
      "outputs": []
    },
    {
      "metadata": {
        "trusted": true
      },
      "cell_type": "code",
      "source": "from sklearn import tree\nmodel = tree.DecisionTreeClassifier(criterion='entropy')",
      "execution_count": 47,
      "outputs": []
    },
    {
      "metadata": {
        "trusted": true
      },
      "cell_type": "code",
      "source": "model.fit(X_train,y_train)",
      "execution_count": 48,
      "outputs": [
        {
          "output_type": "execute_result",
          "execution_count": 48,
          "data": {
            "text/plain": "DecisionTreeClassifier(class_weight=None, criterion='entropy', max_depth=None,\n            max_features=None, max_leaf_nodes=None,\n            min_impurity_decrease=0.0, min_impurity_split=None,\n            min_samples_leaf=1, min_samples_split=2,\n            min_weight_fraction_leaf=0.0, presort=False, random_state=None,\n            splitter='best')"
          },
          "metadata": {}
        }
      ]
    },
    {
      "metadata": {
        "trusted": true
      },
      "cell_type": "code",
      "source": "decision_acc=model.score(X_test,y_test)",
      "execution_count": 49,
      "outputs": []
    },
    {
      "metadata": {
        "trusted": true
      },
      "cell_type": "code",
      "source": "decision_acc",
      "execution_count": 50,
      "outputs": [
        {
          "output_type": "execute_result",
          "execution_count": 50,
          "data": {
            "text/plain": "0.7154471544715447"
          },
          "metadata": {}
        }
      ]
    },
    {
      "metadata": {
        "trusted": true
      },
      "cell_type": "code",
      "source": "X_train, X_test, y_train, y_test = train_test_split(X, y, test_size=0.2,random_state=0)",
      "execution_count": 51,
      "outputs": []
    },
    {
      "metadata": {
        "trusted": true
      },
      "cell_type": "code",
      "source": "sc_x = StandardScaler() \nX_train = sc_x.fit_transform(X_train)  \nX_test = sc_x.transform(X_test) ",
      "execution_count": 52,
      "outputs": [
        {
          "output_type": "stream",
          "text": "/home/nbuser/anaconda3_501/lib/python3.6/site-packages/sklearn/preprocessing/data.py:645: DataConversionWarning: Data with input dtype int64, float64 were all converted to float64 by StandardScaler.\n  return self.partial_fit(X, y)\n/home/nbuser/anaconda3_501/lib/python3.6/site-packages/sklearn/base.py:464: DataConversionWarning: Data with input dtype int64, float64 were all converted to float64 by StandardScaler.\n  return self.fit(X, **fit_params).transform(X)\n/home/nbuser/anaconda3_501/lib/python3.6/site-packages/ipykernel/__main__.py:3: DataConversionWarning: Data with input dtype int64, float64 were all converted to float64 by StandardScaler.\n  app.launch_new_instance()\n",
          "name": "stderr"
        }
      ]
    },
    {
      "metadata": {
        "trusted": true
      },
      "cell_type": "code",
      "source": "from sklearn.linear_model import LogisticRegression \nclassifier = LogisticRegression(random_state = 0) \nclassifier.fit(X_train, y_train) \n",
      "execution_count": 53,
      "outputs": [
        {
          "output_type": "stream",
          "text": "/home/nbuser/anaconda3_501/lib/python3.6/site-packages/sklearn/linear_model/logistic.py:433: FutureWarning: Default solver will be changed to 'lbfgs' in 0.22. Specify a solver to silence this warning.\n  FutureWarning)\n",
          "name": "stderr"
        },
        {
          "output_type": "execute_result",
          "execution_count": 53,
          "data": {
            "text/plain": "LogisticRegression(C=1.0, class_weight=None, dual=False, fit_intercept=True,\n          intercept_scaling=1, max_iter=100, multi_class='warn',\n          n_jobs=None, penalty='l2', random_state=0, solver='warn',\n          tol=0.0001, verbose=0, warm_start=False)"
          },
          "metadata": {}
        }
      ]
    },
    {
      "metadata": {
        "trusted": true
      },
      "cell_type": "code",
      "source": "y_pred = classifier.predict(X_test) \n",
      "execution_count": 54,
      "outputs": []
    },
    {
      "metadata": {
        "trusted": true
      },
      "cell_type": "code",
      "source": "print(confusion_matrix(y_test,y_pred))",
      "execution_count": 55,
      "outputs": [
        {
          "output_type": "stream",
          "text": "[[15 18]\n [ 2 88]]\n",
          "name": "stdout"
        }
      ]
    },
    {
      "metadata": {
        "trusted": true
      },
      "cell_type": "code",
      "source": "from sklearn.metrics import accuracy_score \nprint (\"Accuracy : \", accuracy_score(y_test, y_pred)) \nlogistic_acc= accuracy_score(y_test, y_pred)",
      "execution_count": 56,
      "outputs": [
        {
          "output_type": "stream",
          "text": "Accuracy :  0.8373983739837398\n",
          "name": "stdout"
        }
      ]
    },
    {
      "metadata": {
        "trusted": true
      },
      "cell_type": "code",
      "source": "knn_acc",
      "execution_count": 57,
      "outputs": [
        {
          "output_type": "execute_result",
          "execution_count": 57,
          "data": {
            "text/plain": "0.8432432432432433"
          },
          "metadata": {}
        }
      ]
    },
    {
      "metadata": {
        "trusted": true
      },
      "cell_type": "code",
      "source": "decision_acc",
      "execution_count": 58,
      "outputs": [
        {
          "output_type": "execute_result",
          "execution_count": 58,
          "data": {
            "text/plain": "0.7154471544715447"
          },
          "metadata": {}
        }
      ]
    },
    {
      "metadata": {
        "trusted": true
      },
      "cell_type": "code",
      "source": "logistic_acc",
      "execution_count": 59,
      "outputs": [
        {
          "output_type": "execute_result",
          "execution_count": 59,
          "data": {
            "text/plain": "0.8373983739837398"
          },
          "metadata": {}
        }
      ]
    },
    {
      "metadata": {
        "trusted": true
      },
      "cell_type": "code",
      "source": "svm_acc",
      "execution_count": 60,
      "outputs": [
        {
          "output_type": "execute_result",
          "execution_count": 60,
          "data": {
            "text/plain": "0.7398373983739838"
          },
          "metadata": {}
        }
      ]
    },
    {
      "metadata": {
        "trusted": true
      },
      "cell_type": "code",
      "source": "models = []\nmodels.append(('LR', logistic_acc))\nmodels.append(('KNN', knn_acc))\nmodels.append(('CART', decision_acc))\nmodels.append(('SVM', svm_acc))",
      "execution_count": 61,
      "outputs": []
    },
    {
      "metadata": {
        "trusted": true
      },
      "cell_type": "code",
      "source": "models",
      "execution_count": 62,
      "outputs": [
        {
          "output_type": "execute_result",
          "execution_count": 62,
          "data": {
            "text/plain": "[('LR', 0.8373983739837398),\n ('KNN', 0.8432432432432433),\n ('CART', 0.7154471544715447),\n ('SVM', 0.7398373983739838)]"
          },
          "metadata": {}
        }
      ]
    },
    {
      "metadata": {
        "trusted": true
      },
      "cell_type": "code",
      "source": "results = []",
      "execution_count": 63,
      "outputs": []
    },
    {
      "metadata": {
        "trusted": true
      },
      "cell_type": "code",
      "source": "results.append(logistic_acc)\nresults.append(knn_acc)\nresults.append(decision_acc)\nresults.append(svm_acc)",
      "execution_count": 64,
      "outputs": []
    },
    {
      "metadata": {
        "trusted": true
      },
      "cell_type": "code",
      "source": "results",
      "execution_count": 65,
      "outputs": [
        {
          "output_type": "execute_result",
          "execution_count": 65,
          "data": {
            "text/plain": "[0.8373983739837398,\n 0.8432432432432433,\n 0.7154471544715447,\n 0.7398373983739838]"
          },
          "metadata": {}
        }
      ]
    },
    {
      "metadata": {
        "trusted": true
      },
      "cell_type": "code",
      "source": "names = ['Logistic Regression','K Nearest Neighbour','Decision tree','Support Vector Machine']",
      "execution_count": 66,
      "outputs": []
    },
    {
      "metadata": {
        "trusted": true
      },
      "cell_type": "code",
      "source": "import matplotlib.pyplot as plt\nplt.plot(names, results)\nplt.title('Accuracy Comparison')\nplt.xlabel('Algorithms')\nplt.ylabel('Accuracy')\nplt.figure(\n    figsize=(10, 5))\nplt.show()",
      "execution_count": 67,
      "outputs": [
        {
          "output_type": "display_data",
          "data": {
            "image/png": "[encoded data removed]",
            "text/plain": "<Figure size 432x288 with 1 Axes>"
          },
          "metadata": {
            "needs_background": "light"
          }
        },
        {
          "output_type": "display_data",
          "data": {
            "text/plain": "<Figure size 720x360 with 0 Axes>"
          },
          "metadata": {}
        }
      ]
    },
    {
      "metadata": {
        "trusted": true
      },
      "cell_type": "code",
      "source": "",
      "execution_count": null,
      "outputs": []
    }
  ],
  "metadata": {
    "kernelspec": {
      "name": "python36",
      "display_name": "Python 3.6",
      "language": "python"
    },
    "language_info": {
      "mimetype": "text/x-python",
      "nbconvert_exporter": "python",
      "name": "python",
      "pygments_lexer": "ipython3",
      "version": "3.6.6",
      "file_extension": ".py",
      "codemirror_mode": {
        "version": 3,
        "name": "ipython"
      }
    }
  },
  "nbformat": 4,
  "nbformat_minor": 2
}